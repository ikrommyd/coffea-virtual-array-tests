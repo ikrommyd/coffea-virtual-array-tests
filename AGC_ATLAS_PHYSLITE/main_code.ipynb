{
 "cells": [
  {
   "cell_type": "code",
   "execution_count": 1,
   "id": "2e1eb49c-2d2f-45a3-924f-1d7da14131ab",
   "metadata": {
    "tags": []
   },
   "outputs": [],
   "source": [
    "import os\n",
    "\n",
    "import uproot\n",
    "import awkward as ak\n",
    "import dask\n",
    "import numpy as np\n",
    "import hist\n",
    "\n",
    "import warnings\n",
    "warnings.filterwarnings(\"ignore\")\n",
    "\n",
    "from coffea.nanoevents import NanoEventsFactory, PHYSLITESchema"
   ]
  },
  {
   "cell_type": "code",
   "execution_count": 2,
   "id": "44d6e5fe-af3c-4cb2-9567-70d51b1c206a",
   "metadata": {
    "tags": []
   },
   "outputs": [],
   "source": [
    "def filter_name(name):\n",
    "    return name in [\n",
    "        \"AnalysisElectronsAuxDyn.pt\",\n",
    "        \"AnalysisElectronsAuxDyn.eta\",\n",
    "        \"AnalysisElectronsAuxDyn.phi\",\n",
    "        \"AnalysisElectronsAuxDyn.m\",\n",
    "        \n",
    "        \"AnalysisMuonsAuxDyn.pt\",\n",
    "        \"AnalysisMuonsAuxDyn.eta\",\n",
    "        \"AnalysisMuonsAuxDyn.phi\",\n",
    "        \"AnalysisMuonsAuxDyn.m\",\n",
    "        \n",
    "        \"AnalysisJetsAuxDyn.pt\",\n",
    "        \"AnalysisJetsAuxDyn.eta\",\n",
    "        \"AnalysisJetsAuxDyn.phi\",\n",
    "        \"AnalysisJetsAuxDyn.m\",\n",
    "        \n",
    "        \"BTagging_AntiKt4EMPFlowAuxDyn.DL1dv01_pb\",\n",
    "        \"BTagging_AntiKt4EMPFlowAuxDyn.DL1dv01_pc\",\n",
    "        \"BTagging_AntiKt4EMPFlowAuxDyn.DL1dv01_pu\",\n",
    "        \n",
    "        \"EventInfoAuxDyn.mcEventWeights\",\n",
    "        ]"
   ]
  },
  {
   "cell_type": "code",
   "execution_count": 3,
   "id": "a13a46d3-249b-459b-92f5-fb708c59160e",
   "metadata": {
    "tags": []
   },
   "outputs": [
    {
     "name": "stdout",
     "output_type": "stream",
     "text": [
      "CPU times: user 603 ms, sys: 12.9 ms, total: 616 ms\n",
      "Wall time: 616 ms\n"
     ]
    },
    {
     "data": {
      "text/plain": [
       "[]"
      ]
     },
     "execution_count": 3,
     "metadata": {},
     "output_type": "execute_result"
    }
   ],
   "source": [
    "%%time\n",
    "\n",
    "# mc_file = \"root://eospublic.cern.ch//eos/opendata/atlas/rucio/mc20_13TeV/DAOD_PHYSLITE.37620644._000012.pool.root.1\"\n",
    "mc_file = \"DAOD_PHYSLITE.37620644._000012.pool.root.1\"\n",
    "\n",
    "access_log = []\n",
    "events = NanoEventsFactory.from_root(\n",
    "    {mc_file: \"CollectionTree\"},\n",
    "    schemaclass=PHYSLITESchema,\n",
    "    mode=\"virtual\",\n",
    "    # uproot_options=dict(filter_name=filter_name),\n",
    "    access_log=access_log\n",
    ").events()\n",
    "access_log"
   ]
  },
  {
   "cell_type": "code",
   "execution_count": 4,
   "id": "0430fa53-191b-49e1-8c94-c657b4ebcf68",
   "metadata": {
    "tags": []
   },
   "outputs": [],
   "source": [
    "def calculate_jets_btagDL1d(events):\n",
    "    \n",
    "    BTagging = events.BTagging_AntiKt4EMPFlow\n",
    "    \n",
    "    f_c = 0.018\n",
    "    DDL1 = BTagging.DL1dv01_pb/(f_c*BTagging.DL1dv01_pc + (1-f_c)*BTagging.DL1dv01_pu)\n",
    "    DDL1 = np.log(DDL1)\n",
    "\n",
    "    return DDL1"
   ]
  },
  {
   "cell_type": "code",
   "execution_count": 5,
   "id": "91e147a5-5be8-4141-aacd-f266c6d4304e",
   "metadata": {
    "tags": []
   },
   "outputs": [],
   "source": [
    "B_TAG_THRESHOLD = 2.456\n",
    "\n",
    "def calculate_preselections(events):\n",
    "    # pT > 30 GeV and abs(etha)<2.1 for leptons\n",
    "    selected_electrons = events.Electrons[events.Electrons.pt > 30000 & (np.abs(events.Electrons.eta) < 2.1)]\n",
    "    selected_muons = events.Muons[events.Muons.pt > 30000 & (np.abs(events.Muons.eta) < 2.1)]\n",
    "    \n",
    "    # calculate tagging variable and manually attach it to jets (which passed the preselection)\n",
    "    jets = events.Jets\n",
    "    jets[\"btagDL1d\"] = calculate_jets_btagDL1d(events)\n",
    "    \n",
    "    # pT > 25 GeV and abs(etha) < 2.4 for jets\n",
    "    selected_jets = jets[events.Jets.pt > 25000 & (np.abs(events.Jets.eta) < 2.4)] \n",
    "    \n",
    "    # single lepton requirement\n",
    "    event_filters = ((ak.count(selected_electrons.pt, axis=1) + ak.count(selected_muons.pt, axis=1)) == 1)\n",
    "    # at least four jets\n",
    "    event_filters = event_filters & (ak.count(selected_jets.pt, axis=1) >= 4)\n",
    "    \n",
    "    return event_filters, selected_jets\n",
    "    \n",
    "def calculate_trijet_mass_and_ev_filter(event_filters, selected_jets):    \n",
    "        \n",
    "    # at least two b-tagged jets (\"tag\" means score above threshold)\n",
    "    event_filters = event_filters & (ak.sum(selected_jets.btagDL1d > B_TAG_THRESHOLD, axis=1) >= 2)\n",
    "    \n",
    "    # apply filters\n",
    "    selected_jets = selected_jets[event_filters]\n",
    "    \n",
    "    trijet = ak.combinations(selected_jets, 3, fields=[\"j1\", \"j2\", \"j3\"])  # trijet candidate\n",
    "    trijet[\"p4\"] = trijet.j1 + trijet.j2 + trijet.j3  # four-momentum of tri-jet system\n",
    "\n",
    "    trijet[\"max_btag\"] = np.maximum(trijet.j1.btagDL1d, np.maximum(trijet.j2.btagDL1d, trijet.j3.btagDL1d))\n",
    "    trijet = trijet[trijet.max_btag > B_TAG_THRESHOLD]  # at least one-btag in trijet candidates\n",
    "        \n",
    "    # pick trijet candidate with largest pT and calculate mass of system\n",
    "    trijet_mass = trijet[\"p4\"][ak.argmax(trijet.p4.pt, axis=1, keepdims=True)].mass\n",
    "    \n",
    "    \n",
    "    return ak.flatten(trijet_mass), event_filters\n",
    "\n",
    "\n",
    "def calculate_Ht_and_ev_filter(event_filters, selected_jets):\n",
    "    \n",
    "    # exactly ont b-tagged jets (\"tag\" means score above threshold)\n",
    "    event_filters = event_filters & (ak.sum(selected_jets.btagDL1d > B_TAG_THRESHOLD, axis=1) == 1)\n",
    "    selected_jets = selected_jets[event_filters]\n",
    "    \n",
    "    observable_Ht = ak.sum(selected_jets.pt, axis=-1)\n",
    "    \n",
    "    return observable_Ht, event_filters"
   ]
  },
  {
   "cell_type": "code",
   "execution_count": 6,
   "id": "55b0e840-0390-442c-8f7e-4080fbaf5b0a",
   "metadata": {
    "tags": []
   },
   "outputs": [
    {
     "name": "stdout",
     "output_type": "stream",
     "text": [
      "CPU times: user 763 ms, sys: 239 ms, total: 1 s\n",
      "Wall time: 956 ms\n"
     ]
    },
    {
     "data": {
      "text/plain": [
       "['AnalysisElectronsAuxDyn.trackParticleLinks',\n",
       " 'AnalysisElectronsAuxDyn.eta',\n",
       " 'AnalysisElectronsAuxDyn.pt',\n",
       " 'AnalysisMuonsAuxDyn.pt',\n",
       " 'AnalysisMuonsAuxDyn.eta',\n",
       " 'AnalysisMuonsAuxDyn.pt',\n",
       " 'BTagging_AntiKt4EMPFlowAuxDyn.DL1dv01_pu',\n",
       " 'BTagging_AntiKt4EMPFlowAuxDyn.DL1dv01_pc',\n",
       " 'BTagging_AntiKt4EMPFlowAuxDyn.DL1dv01_pu',\n",
       " 'BTagging_AntiKt4EMPFlowAuxDyn.DL1dv01_pb',\n",
       " 'AnalysisJetsAuxDyn.pt',\n",
       " 'AnalysisJetsAuxDyn.eta',\n",
       " 'AnalysisJetsAuxDyn.pt',\n",
       " 'AnalysisJetsAuxDyn.phi',\n",
       " 'AnalysisJetsAuxDyn.m']"
      ]
     },
     "execution_count": 6,
     "metadata": {},
     "output_type": "execute_result"
    }
   ],
   "source": [
    "%%time\n",
    "\n",
    "event_filters, selected_jets = calculate_preselections(events)\n",
    "\n",
    "reconstructed_top_mass, _ = calculate_trijet_mass_and_ev_filter(event_filters, selected_jets)\n",
    "hist_reco_mtop = hist.Hist.new.Reg(25, 50, 550, label=\"$m_{bjj} [GeV]$\").Double().fill(reconstructed_top_mass/1000)\n",
    "\n",
    "observable_Ht, _ = calculate_Ht_and_ev_filter(event_filters, selected_jets)\n",
    "hist_Ht = hist.new.Reg(25, 70, 570, label=\"$H_T$ [GeV/c]\").Double().fill(observable_Ht/1000)\n",
    "\n",
    "access_log"
   ]
  },
  {
   "cell_type": "code",
   "execution_count": 7,
   "id": "85939ab4-df2f-43a7-9876-a8c681377ea4",
   "metadata": {
    "tags": []
   },
   "outputs": [
    {
     "data": {
      "image/png": "[encoded data removed]",
      "text/plain": [
       "<Figure size 640x480 with 1 Axes>"
      ]
     },
     "metadata": {},
     "output_type": "display_data"
    }
   ],
   "source": [
    "# perform computation and visualize\n",
    "artists = hist_reco_mtop.plot()"
   ]
  },
  {
   "cell_type": "code",
   "execution_count": 8,
   "id": "f7d217c0-74b2-4595-8f9e-e5f56f95bee1",
   "metadata": {
    "tags": []
   },
   "outputs": [
    {
     "data": {
      "image/png": "[encoded data removed]",
      "text/plain": [
       "<Figure size 640x480 with 1 Axes>"
      ]
     },
     "metadata": {},
     "output_type": "display_data"
    }
   ],
   "source": [
    "# perform computation and visualize\n",
    "artists = hist_Ht.plot()"
   ]
  },
  {
   "cell_type": "code",
   "execution_count": 9,
   "id": "443b01ad-f3ec-4820-ada3-fe3d3976862b",
   "metadata": {
    "tags": []
   },
   "outputs": [],
   "source": [
    "LUMINOSITY = 36640 \n",
    "\n",
    "def create_histograms(events):\n",
    "        \n",
    "    # Fetching metadata\n",
    "    cross_section = events.metadata[\"crossSection_pb\"]\n",
    "    filter_efficiency = events.metadata[\"genFiltEff\"]\n",
    "    k_factor = events.metadata[\"kFactor\"]\n",
    "    process_label = events.metadata[\"process-label\"]\n",
    "    variation = events.metadata[\"variation\"]\n",
    "    \n",
    "    # Calculate the sum of weights for the currently processing PHYSELITE file.\n",
    "    sum_of_mc_weights = ak.sum(events.EventInfo.mcEventWeights[:, 0])\n",
    "    \n",
    "    # calculate lumi_weight constant term\n",
    "    lumi_weight = LUMINOSITY * cross_section * k_factor * filter_efficiency\n",
    "            \n",
    "    # Retrieve events and jet's preselection\n",
    "    event_filters, selected_jets = calculate_preselections(events)\n",
    "    \n",
    "    ##############################################\n",
    "    ## Trijet mass calculation\n",
    "    ##############################################\n",
    "    reconstructed_top_mass, event_filters_mass = calculate_trijet_mass_and_ev_filter(event_filters, selected_jets)    \n",
    "    mc_weight_mass = events.EventInfo.mcEventWeights[:, 0][event_filters_mass]\n",
    "    \n",
    "    hist_reco_mtop = (hist.Hist.new.Reg(25, 50, 550, name=\"m_reco_top\", label=r\"$m_{bjj}$ [GeV]\")\n",
    "                     .StrCat([], name=\"process\", label=\"Process\", growth=True)\n",
    "                     .StrCat([], name=\"variation\", label=\"Systematic variation\", growth=True)\n",
    "                     .Weight()\n",
    "                     .fill(reconstructed_top_mass/1000, weight=lumi_weight*mc_weight_mass, process=process_label, variation=variation) )\n",
    "    \n",
    "    ##############################################\n",
    "    ## Ht calculation                             \n",
    "    ##############################################\n",
    "    observable_Ht, event_filters_Ht = calculate_Ht_and_ev_filter(event_filters, selected_jets)\n",
    "    mc_weight_Ht = events.EventInfo.mcEventWeights[:, 0][event_filters_Ht] \n",
    "    \n",
    "    hist_Ht = (hist.Hist.new.Reg(25, 70, 570, name=\"H_t\", label=r\"$H_T$ [GeV/c]\")\n",
    "                     .StrCat([], name=\"process\", label=\"Process\", growth=True)\n",
    "                     .StrCat([], name=\"variation\", label=\"Systematic variation\", growth=True)\n",
    "                     .Weight()\n",
    "                     .fill(observable_Ht/1000, weight=lumi_weight*mc_weight_Ht, process=process_label, variation=variation) )\n",
    "    \n",
    "    \n",
    "    return {\"hist_reco_mtop\":hist_reco_mtop, \"hist_Ht\":hist_Ht, \"sum_of_file_weights\": sum_of_mc_weights}"
   ]
  },
  {
   "cell_type": "code",
   "execution_count": 10,
   "id": "4fd3c38d-6ff9-47fc-8829-5b942736a255",
   "metadata": {},
   "outputs": [
    {
     "name": "stdout",
     "output_type": "stream",
     "text": [
      "CPU times: user 585 ms, sys: 8.9 ms, total: 594 ms\n",
      "Wall time: 594 ms\n"
     ]
    },
    {
     "data": {
      "text/plain": [
       "[]"
      ]
     },
     "execution_count": 10,
     "metadata": {},
     "output_type": "execute_result"
    }
   ],
   "source": [
    "%%time\n",
    "\n",
    "# mc_file = \"root://eospublic.cern.ch//eos/opendata/atlas/rucio/mc20_13TeV/DAOD_PHYSLITE.37620644._000012.pool.root.1\"\n",
    "mc_file = \"DAOD_PHYSLITE.37620644._000012.pool.root.1\"\n",
    "\n",
    "access_log = []\n",
    "events = NanoEventsFactory.from_root(\n",
    "    {mc_file: \"CollectionTree\"},\n",
    "    schemaclass=PHYSLITESchema,\n",
    "    mode=\"virtual\",\n",
    "    # uproot_options=dict(filter_name=filter_name),\n",
    "    metadata = {\n",
    "        \"crossSection_pb\": 729.77,\n",
    "        \"genFiltEff\": 0.5437965,\n",
    "        \"kFactor\": 1.139756362,\n",
    "        \"process-label\": \"ttbar\",\n",
    "        \"variation\": \"nominal\",\n",
    "    },\n",
    "    access_log=access_log\n",
    ").events()\n",
    "access_log"
   ]
  },
  {
   "cell_type": "code",
   "execution_count": 11,
   "id": "38a8a65d-3c13-4670-a40f-fad9bf4eea54",
   "metadata": {},
   "outputs": [
    {
     "name": "stdout",
     "output_type": "stream",
     "text": [
      "CPU times: user 1.3 s, sys: 599 ms, total: 1.9 s\n",
      "Wall time: 1.6 s\n"
     ]
    },
    {
     "data": {
      "text/plain": [
       "['EventInfoAuxDyn.mcEventWeights',\n",
       " 'EventInfoAuxDyn.mcEventWeights',\n",
       " 'AnalysisElectronsAuxDyn.trackParticleLinks',\n",
       " 'AnalysisElectronsAuxDyn.eta',\n",
       " 'AnalysisElectronsAuxDyn.pt',\n",
       " 'AnalysisMuonsAuxDyn.pt',\n",
       " 'AnalysisMuonsAuxDyn.eta',\n",
       " 'AnalysisMuonsAuxDyn.pt',\n",
       " 'BTagging_AntiKt4EMPFlowAuxDyn.DL1dv01_pu',\n",
       " 'BTagging_AntiKt4EMPFlowAuxDyn.DL1dv01_pc',\n",
       " 'BTagging_AntiKt4EMPFlowAuxDyn.DL1dv01_pu',\n",
       " 'BTagging_AntiKt4EMPFlowAuxDyn.DL1dv01_pb',\n",
       " 'AnalysisJetsAuxDyn.pt',\n",
       " 'AnalysisJetsAuxDyn.eta',\n",
       " 'AnalysisJetsAuxDyn.pt',\n",
       " 'AnalysisJetsAuxDyn.phi',\n",
       " 'AnalysisJetsAuxDyn.m']"
      ]
     },
     "execution_count": 11,
     "metadata": {},
     "output_type": "execute_result"
    }
   ],
   "source": [
    "%%time\n",
    "\n",
    "out = create_histograms(events)\n",
    "\n",
    "# Dividing the number of counts in each bin in the histogram by the sum of weights.\n",
    "out[\"hist_reco_mtop\"] /= out[\"sum_of_file_weights\"]\n",
    "out[\"hist_Ht\"] /= out[\"sum_of_file_weights\"]\n",
    "\n",
    "access_log"
   ]
  },
  {
   "cell_type": "code",
   "execution_count": 12,
   "id": "d4235ba6-21bb-42ca-b219-8b01d7c43b71",
   "metadata": {},
   "outputs": [
    {
     "data": {
      "image/png": "[encoded data removed]",
      "text/plain": [
       "<Figure size 640x480 with 1 Axes>"
      ]
     },
     "metadata": {},
     "output_type": "display_data"
    }
   ],
   "source": [
    "artists = out[\"hist_reco_mtop\"][:, \"ttbar\", \"nominal\"].plot()"
   ]
  },
  {
   "cell_type": "code",
   "execution_count": 13,
   "id": "9a285854-c884-4c92-b23f-d32f25cb5683",
   "metadata": {},
   "outputs": [
    {
     "data": {
      "image/png": "[encoded data removed]",
      "text/plain": [
       "<Figure size 640x480 with 1 Axes>"
      ]
     },
     "metadata": {},
     "output_type": "display_data"
    }
   ],
   "source": [
    "artists = out[\"hist_Ht\"][:, \"ttbar\", \"nominal\"].plot()"
   ]
  }
 ],
 "metadata": {
  "kernelspec": {
   "display_name": "Python 3 (ipykernel)",
   "language": "python",
   "name": "python3"
  },
  "language_info": {
   "codemirror_mode": {
    "name": "ipython",
    "version": 3
   },
   "file_extension": ".py",
   "mimetype": "text/x-python",
   "name": "python",
   "nbconvert_exporter": "python",
   "pygments_lexer": "ipython3",
   "version": "3.12.10"
  }
 },
 "nbformat": 4,
 "nbformat_minor": 5
}
